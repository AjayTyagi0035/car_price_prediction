{
 "cells": [
  {
   "cell_type": "code",
   "execution_count": 62,
   "id": "4ab0b294",
   "metadata": {},
   "source": [
    "from sklearn.model_selection import train_test_split\n",
    "from sklearn.linear_model import LinearRegression\n",
    "from sklearn.preprocessing import OneHotEncoder\n",
    "from sklearn.compose import make_column_transformer\n",
    "from sklearn.pipeline import make_pipeline\n",
    "from sklearn.metrics import r2_score\n",
    "import pandas as pd\n",
    "import numpy as np\n",
    "import pickle"
   ],
   "outputs": []
  },
  {
   "cell_type": "code",
   "execution_count": 63,
   "id": "39577dfa",
   "metadata": {},
   "source": [
    "car=pd.read_csv('Cleaned_Car_data.csv')"
   ],
   "outputs": []
  },
  {
   "cell_type": "code",
   "execution_count": 64,
   "id": "09e6eb53",
   "metadata": {},
   "source": [
    "car.head()"
   ],
   "outputs": []
  },
  {
   "cell_type": "code",
   "execution_count": 65,
   "id": "57701381",
   "metadata": {},
   "source": [
    "X=car.drop(columns='Price')\n",
    "y = car['Price']"
   ],
   "outputs": []
  },
  {
   "cell_type": "code",
   "execution_count": 66,
   "id": "e642ff32",
   "metadata": {},
   "source": [
    "from sklearn.model_selection import train_test_split\n",
    "X_train,X_test,y_train,y_test=train_test_split(X,y,test_size=0.2)"
   ],
   "outputs": []
  },
  {
   "cell_type": "code",
   "execution_count": 67,
   "id": "f8faf0c8",
   "metadata": {},
   "source": [
    "ohe=OneHotEncoder()\n",
    "ohe.fit(X[['name','company','fuel_type']])"
   ],
   "outputs": []
  },
  {
   "cell_type": "code",
   "execution_count": 68,
   "id": "f07babd2",
   "metadata": {},
   "source": [
    "ohe.categories_"
   ],
   "outputs": []
  },
  {
   "cell_type": "code",
   "execution_count": 69,
   "id": "208a602e",
   "metadata": {},
   "source": [
    "X_train, X_test, y_train, y_test = train_test_split(X, y, test_size=0.2)"
   ],
   "outputs": []
  },
  {
   "cell_type": "code",
   "execution_count": 70,
   "id": "a6008ecd",
   "metadata": {},
   "source": [
    "# Fit the OneHotEncoder\n",
    "ohe = OneHotEncoder()\n",
    "ohe.fit(X[['name', 'company', 'fuel_type']])"
   ],
   "outputs": []
  },
  {
   "cell_type": "code",
   "execution_count": 71,
   "id": "ea565d6a",
   "metadata": {},
   "source": [
    "column_trans = make_column_transformer(\n",
    "    (OneHotEncoder(categories=ohe.categories_), ['name', 'company', 'fuel_type']),\n",
    "    remainder='passthrough'\n",
    ")"
   ],
   "outputs": []
  },
  {
   "cell_type": "code",
   "execution_count": 72,
   "id": "e71fa4fc",
   "metadata": {},
   "source": [
    "# Fit the model using pipeline\n",
    "lr = LinearRegression()\n",
    "pipe = make_pipeline(column_trans, lr)\n",
    "pipe.fit(X_train, y_train)"
   ],
   "outputs": []
  },
  {
   "cell_type": "code",
   "execution_count": 73,
   "id": "3d74f643",
   "metadata": {},
   "source": [
    "y_pred = pipe.predict(X_test)"
   ],
   "outputs": []
  },
  {
   "cell_type": "code",
   "execution_count": 74,
   "id": "a48cf7d3",
   "metadata": {},
   "source": [
    "# Calculate R-squared score\n",
    "r2 = r2_score(y_test, y_pred)"
   ],
   "outputs": []
  },
  {
   "cell_type": "code",
   "execution_count": 75,
   "id": "fc338212",
   "metadata": {},
   "source": [
    "# Save the model using pickle\n",
    "with open('LinearRegressionModel.pkl', 'wb') as f:\n",
    "    pickle.dump(pipe, f)"
   ],
   "outputs": []
  },
  {
   "cell_type": "code",
   "execution_count": 84,
   "id": "ca22e764",
   "metadata": {},
   "source": [
    "# Generate a sample input for prediction\n",
    "sample_input = np.array(['Maruti Suzuki Swift', 'Maruti', 2019, 1000,'Petrol']).reshape(1, -1)\n",
    "sample_df = pd.DataFrame(columns=['name', 'company', 'year', 'kms_driven', 'fuel_type'], data=sample_input)\n",
    "\n",
    "# Load the trained model using pickle\n",
    "with open('LinearRegressionModel.pkl', 'rb') as f:\n",
    "    loaded_model = pickle.load(f)\n",
    "\n",
    "# Predict the price using the loaded model\n",
    "predicted_price = loaded_model.predict(sample_df)\n",
    "\n",
    "# Extract the factors used in prediction\n",
    "factors_used = sample_df.columns.tolist()\n",
    "\n",
    "# Create a description of the output including information about factors affecting price\n",
    "description = f\"The predicted price for a {sample_df['name'].values[0]} ({sample_df['year'].values[0]}) with {sample_df['kms_driven'].values[0]} kms driven and {sample_df['fuel_type'].values[0]} fuel type is {predicted_price[0]}. Factors affecting the price are:\"\n",
    "\n",
    "# Iterate through each factor and print its impact on the price\n",
    "for factor in factors_used:\n",
    "    if factor in ['name', 'company', 'fuel_type']:\n",
    "        continue  # Skip categorical factors during this analysis\n",
    "    factor_df = sample_df.copy()\n",
    "    factor_df[factor] = factor_df[factor].mean()  # Use the mean value for numerical factors\n",
    "    \n",
    "    # Predict the price with the transformed data\n",
    "    factor_price = loaded_model.predict(factor_df)\n",
    "    price_difference = predicted_price[0] - factor_price[0]\n",
    "    print(f\"- {factor}: Reduces price by {abs(price_difference)}\")\n",
    "\n",
    "# Print the description\n",
    "print(description)\n"
   ],
   "outputs": []
  },
  {
   "cell_type": "code",
   "execution_count": null,
   "id": "0f218ad0",
   "metadata": {},
   "source": [],
   "outputs": []
  }
 ],
 "metadata": {
  "kernelspec": {
   "display_name": "Python 3 (ipykernel)",
   "language": "python",
   "name": "python3"
  },
  "language_info": {
   "codemirror_mode": {
    "name": "ipython",
    "version": 3
   },
   "file_extension": ".py",
   "mimetype": "text/x-python",
   "name": "python",
   "nbconvert_exporter": "python",
   "pygments_lexer": "ipython3",
   "version": "3.10.5"
  }
 },
 "nbformat": 4,
 "nbformat_minor": 5
}
