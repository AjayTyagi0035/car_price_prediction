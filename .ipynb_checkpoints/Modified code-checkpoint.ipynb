{
 "cells": [
  {
   "cell_type": "code",
   "execution_count": 26,
   "id": "325f7466",
   "metadata": {},
   "source": [
    "from sklearn.model_selection import train_test_split\n",
    "from sklearn.linear_model import LinearRegression\n",
    "from sklearn.preprocessing import OneHotEncoder\n",
    "from sklearn.compose import make_column_transformer\n",
    "from sklearn.pipeline import make_pipeline\n",
    "from sklearn.metrics import r2_score\n",
    "import pandas as pd\n",
    "import numpy as np\n",
    "import pickle"
   ],
   "outputs": []
  },
  {
   "cell_type": "code",
   "execution_count": 40,
   "id": "71b289b1",
   "metadata": {},
   "source": [
    "car=pd.read_csv('Cleaned_Car_data.csv')"
   ],
   "outputs": []
  },
  {
   "cell_type": "code",
   "execution_count": 41,
   "id": "77fc32c9",
   "metadata": {},
   "source": [
    "car.head()"
   ],
   "outputs": []
  },
  {
   "cell_type": "code",
   "execution_count": 42,
   "id": "22558e76",
   "metadata": {},
   "source": [
    "X=car.drop(columns='Price')\n",
    "y = car['Price']"
   ],
   "outputs": []
  },
  {
   "cell_type": "code",
   "execution_count": 43,
   "id": "2392aaae",
   "metadata": {},
   "source": [
    "from sklearn.model_selection import train_test_split\n",
    "X_train,X_test,y_train,y_test=train_test_split(X,y,test_size=0.2)"
   ],
   "outputs": []
  },
  {
   "cell_type": "code",
   "execution_count": 44,
   "id": "0c2baee6",
   "metadata": {},
   "source": [
    "ohe=OneHotEncoder()\n",
    "ohe.fit(X[['name','company','fuel_type']])"
   ],
   "outputs": []
  },
  {
   "cell_type": "code",
   "execution_count": 45,
   "id": "6d874a40",
   "metadata": {},
   "source": [
    "ohe.categories_"
   ],
   "outputs": []
  },
  {
   "cell_type": "code",
   "execution_count": 46,
   "id": "5581f747",
   "metadata": {},
   "source": [
    "X_train, X_test, y_train, y_test = train_test_split(X, y, test_size=0.2)"
   ],
   "outputs": []
  },
  {
   "cell_type": "code",
   "execution_count": 47,
   "id": "7bda0e50",
   "metadata": {},
   "source": [
    "# Fit the OneHotEncoder\n",
    "ohe = OneHotEncoder()\n",
    "ohe.fit(X[['name', 'company', 'fuel_type']])"
   ],
   "outputs": []
  },
  {
   "cell_type": "code",
   "execution_count": 48,
   "id": "dd116965",
   "metadata": {},
   "source": [
    "column_trans = make_column_transformer(\n",
    "    (OneHotEncoder(categories=ohe.categories_), ['name', 'company', 'fuel_type']),\n",
    "    remainder='passthrough'\n",
    ")"
   ],
   "outputs": []
  },
  {
   "cell_type": "code",
   "execution_count": 49,
   "id": "c40191d0",
   "metadata": {},
   "source": [
    "# Fit the model using pipeline\n",
    "lr = LinearRegression()\n",
    "pipe = make_pipeline(column_trans, lr)\n",
    "pipe.fit(X_train, y_train)"
   ],
   "outputs": []
  },
  {
   "cell_type": "code",
   "execution_count": 50,
   "id": "0ecf934d",
   "metadata": {},
   "source": [
    "y_pred = pipe.predict(X_test)"
   ],
   "outputs": []
  },
  {
   "cell_type": "code",
   "execution_count": 51,
   "id": "5c7b1012",
   "metadata": {},
   "source": [
    "# Calculate R-squared score\n",
    "r2 = r2_score(y_test, y_pred)"
   ],
   "outputs": []
  },
  {
   "cell_type": "code",
   "execution_count": 52,
   "id": "ce2ef5f4",
   "metadata": {},
   "source": [
    "# Save the model using pickle\n",
    "with open('LinearRegressionModel.pkl', 'wb') as f:\n",
    "    pickle.dump(pipe, f)"
   ],
   "outputs": []
  },
  {
   "cell_type": "code",
   "execution_count": 58,
   "id": "aff8ae5c",
   "metadata": {},
   "source": [
    "# Generate a sample input for prediction\n",
    "sample_input = np.array(['Maruti Suzuki Swift', 'Maruti', 2019, 100, 'Petrol']).reshape(1, -1)\n",
    "sample_df = pd.DataFrame(columns=['name', 'company', 'year', 'kms_driven', 'fuel_type'], data=sample_input)\n",
    "\n",
    "# Load the trained model using pickle\n",
    "with open('LinearRegressionModel.pkl', 'rb') as f:\n",
    "    loaded_model = pickle.load(f)\n",
    "\n",
    "# Predict the price using the loaded model\n",
    "predicted_price = loaded_model.predict(sample_df)\n",
    "\n",
    "# Extract the factors used in prediction\n",
    "factors_used = sample_df.columns.tolist()\n",
    "\n",
    "# Create a description of the output including an explanation with factors\n",
    "description = f\"The predicted price for a {sample_df['name'].values[0]} ({sample_df['year'].values[0]}) with {sample_df['kms_driven'].values[0]} kms driven and {sample_df['fuel_type'].values[0]} fuel type is {predicted_price[0]}. Factors considered in this prediction are: {', '.join(factors_used)}.\"\n",
    "\n",
    "# Explanation message\n",
    "explanation = \"This predicted price is based on the trained model's analysis of historical car data, taking into account factors such as the car's make, year, mileage, and fuel type. It aims to provide an estimate of the market value for similar cars in the current market conditions.\"\n",
    "\n",
    "# Print the description and explanation\n",
    "print(description)\n",
    "print(explanation)\n"
   ],
   "outputs": []
  },
  {
   "cell_type": "code",
   "execution_count": null,
   "id": "930eafb1",
   "metadata": {},
   "source": [],
   "outputs": []
  }
 ],
 "metadata": {
  "kernelspec": {
   "display_name": "Python 3 (ipykernel)",
   "language": "python",
   "name": "python3"
  },
  "language_info": {
   "codemirror_mode": {
    "name": "ipython",
    "version": 3
   },
   "file_extension": ".py",
   "mimetype": "text/x-python",
   "name": "python",
   "nbconvert_exporter": "python",
   "pygments_lexer": "ipython3",
   "version": "3.10.5"
  }
 },
 "nbformat": 4,
 "nbformat_minor": 5
}
